{
 "cells": [
  {
   "cell_type": "markdown",
   "id": "7368bf88-bf67-4d37-a090-18d0a74de4d4",
   "metadata": {},
   "source": [
    "# Types of Recommendation Saystem\n",
    "# #  1  Context based\n",
    "# #  2  Collaborate filtering\n",
    "# #  3  Hybrid\n"
   ]
  },
  {
   "cell_type": "markdown",
   "id": "8e760385-8f7a-43a1-9111-5de4aa2d3c4f",
   "metadata": {},
   "source": [
    "# Flow  \n",
    "## dataset -> PreProcessing ->"
   ]
  },
  {
   "cell_type": "code",
   "execution_count": 3,
   "id": "1a20cca9-61b2-4e47-8f79-ee2017d7cafa",
   "metadata": {},
   "outputs": [],
   "source": [
    "import pandas as pd\n",
    "import numpy as np"
   ]
  },
  {
   "cell_type": "markdown",
   "id": "4b3db3e3-ea6a-4819-8302-6d3be2e8f56b",
   "metadata": {},
   "source": [
    "# Load DataSET"
   ]
  },
  {
   "cell_type": "code",
   "execution_count": 5,
   "id": "cb2abe71-0c2b-439a-a671-71c4063c3140",
   "metadata": {},
   "outputs": [
    {
     "data": {
      "text/html": [
       "<div>\n",
       "<style scoped>\n",
       "    .dataframe tbody tr th:only-of-type {\n",
       "        vertical-align: middle;\n",
       "    }\n",
       "\n",
       "    .dataframe tbody tr th {\n",
       "        vertical-align: top;\n",
       "    }\n",
       "\n",
       "    .dataframe thead th {\n",
       "        text-align: right;\n",
       "    }\n",
       "</style>\n",
       "<table border=\"1\" class=\"dataframe\">\n",
       "  <thead>\n",
       "    <tr style=\"text-align: right;\">\n",
       "      <th></th>\n",
       "      <th>movie_id</th>\n",
       "      <th>title</th>\n",
       "      <th>cast</th>\n",
       "      <th>crew</th>\n",
       "    </tr>\n",
       "  </thead>\n",
       "  <tbody>\n",
       "    <tr>\n",
       "      <th>0</th>\n",
       "      <td>19995</td>\n",
       "      <td>Avatar</td>\n",
       "      <td>[{\"cast_id\": 242, \"character\": \"Jake Sully\", \"...</td>\n",
       "      <td>[{\"credit_id\": \"52fe48009251416c750aca23\", \"de...</td>\n",
       "    </tr>\n",
       "  </tbody>\n",
       "</table>\n",
       "</div>"
      ],
      "text/plain": [
       "   movie_id   title                                               cast  \\\n",
       "0     19995  Avatar  [{\"cast_id\": 242, \"character\": \"Jake Sully\", \"...   \n",
       "\n",
       "                                                crew  \n",
       "0  [{\"credit_id\": \"52fe48009251416c750aca23\", \"de...  "
      ]
     },
     "execution_count": 5,
     "metadata": {},
     "output_type": "execute_result"
    }
   ],
   "source": [
    "data_credit = pd.read_csv(\"tmdb_5000_credits.csv\")\n",
    "data_credit.head(1)"
   ]
  },
  {
   "cell_type": "code",
   "execution_count": 6,
   "id": "1ea300cf-c3a6-49cd-9e74-1072a28e0f2b",
   "metadata": {},
   "outputs": [
    {
     "data": {
      "text/html": [
       "<div>\n",
       "<style scoped>\n",
       "    .dataframe tbody tr th:only-of-type {\n",
       "        vertical-align: middle;\n",
       "    }\n",
       "\n",
       "    .dataframe tbody tr th {\n",
       "        vertical-align: top;\n",
       "    }\n",
       "\n",
       "    .dataframe thead th {\n",
       "        text-align: right;\n",
       "    }\n",
       "</style>\n",
       "<table border=\"1\" class=\"dataframe\">\n",
       "  <thead>\n",
       "    <tr style=\"text-align: right;\">\n",
       "      <th></th>\n",
       "      <th>budget</th>\n",
       "      <th>genres</th>\n",
       "      <th>homepage</th>\n",
       "      <th>id</th>\n",
       "      <th>keywords</th>\n",
       "      <th>original_language</th>\n",
       "      <th>original_title</th>\n",
       "      <th>overview</th>\n",
       "      <th>popularity</th>\n",
       "      <th>production_companies</th>\n",
       "      <th>production_countries</th>\n",
       "      <th>release_date</th>\n",
       "      <th>revenue</th>\n",
       "      <th>runtime</th>\n",
       "      <th>spoken_languages</th>\n",
       "      <th>status</th>\n",
       "      <th>tagline</th>\n",
       "      <th>title</th>\n",
       "      <th>vote_average</th>\n",
       "      <th>vote_count</th>\n",
       "    </tr>\n",
       "  </thead>\n",
       "  <tbody>\n",
       "    <tr>\n",
       "      <th>0</th>\n",
       "      <td>237000000</td>\n",
       "      <td>[{\"id\": 28, \"name\": \"Action\"}, {\"id\": 12, \"nam...</td>\n",
       "      <td>http://www.avatarmovie.com/</td>\n",
       "      <td>19995</td>\n",
       "      <td>[{\"id\": 1463, \"name\": \"culture clash\"}, {\"id\":...</td>\n",
       "      <td>en</td>\n",
       "      <td>Avatar</td>\n",
       "      <td>In the 22nd century, a paraplegic Marine is di...</td>\n",
       "      <td>150.437577</td>\n",
       "      <td>[{\"name\": \"Ingenious Film Partners\", \"id\": 289...</td>\n",
       "      <td>[{\"iso_3166_1\": \"US\", \"name\": \"United States o...</td>\n",
       "      <td>2009-12-10</td>\n",
       "      <td>2787965087</td>\n",
       "      <td>162.0</td>\n",
       "      <td>[{\"iso_639_1\": \"en\", \"name\": \"English\"}, {\"iso...</td>\n",
       "      <td>Released</td>\n",
       "      <td>Enter the World of Pandora.</td>\n",
       "      <td>Avatar</td>\n",
       "      <td>7.2</td>\n",
       "      <td>11800</td>\n",
       "    </tr>\n",
       "  </tbody>\n",
       "</table>\n",
       "</div>"
      ],
      "text/plain": [
       "      budget                                             genres  \\\n",
       "0  237000000  [{\"id\": 28, \"name\": \"Action\"}, {\"id\": 12, \"nam...   \n",
       "\n",
       "                      homepage     id  \\\n",
       "0  http://www.avatarmovie.com/  19995   \n",
       "\n",
       "                                            keywords original_language  \\\n",
       "0  [{\"id\": 1463, \"name\": \"culture clash\"}, {\"id\":...                en   \n",
       "\n",
       "  original_title                                           overview  \\\n",
       "0         Avatar  In the 22nd century, a paraplegic Marine is di...   \n",
       "\n",
       "   popularity                               production_companies  \\\n",
       "0  150.437577  [{\"name\": \"Ingenious Film Partners\", \"id\": 289...   \n",
       "\n",
       "                                production_countries release_date     revenue  \\\n",
       "0  [{\"iso_3166_1\": \"US\", \"name\": \"United States o...   2009-12-10  2787965087   \n",
       "\n",
       "   runtime                                   spoken_languages    status  \\\n",
       "0    162.0  [{\"iso_639_1\": \"en\", \"name\": \"English\"}, {\"iso...  Released   \n",
       "\n",
       "                       tagline   title  vote_average  vote_count  \n",
       "0  Enter the World of Pandora.  Avatar           7.2       11800  "
      ]
     },
     "execution_count": 6,
     "metadata": {},
     "output_type": "execute_result"
    }
   ],
   "source": [
    "data_movies = pd.read_csv(\"tmdb_5000_Movies.csv\")\n",
    "data_movies.head(1)"
   ]
  },
  {
   "cell_type": "code",
   "execution_count": 7,
   "id": "857acee3-a268-485b-a8ad-2475ddfeaab8",
   "metadata": {},
   "outputs": [],
   "source": [
    "# data_movies[\"genres\"].values"
   ]
  },
  {
   "cell_type": "code",
   "execution_count": 8,
   "id": "cd996546-8404-401d-910c-0c0fbddaf7be",
   "metadata": {},
   "outputs": [],
   "source": [
    "# data_movies[\"keywords\"].values"
   ]
  },
  {
   "cell_type": "code",
   "execution_count": 9,
   "id": "ee74b72d-1643-4db8-a47c-2e7febaec5d5",
   "metadata": {},
   "outputs": [],
   "source": [
    "# data_movies[\"spoken_languages\"].values"
   ]
  },
  {
   "cell_type": "markdown",
   "id": "7e39b15b-e5e9-455a-91a9-bce5fb656dc1",
   "metadata": {},
   "source": [
    "###  Merge both datasets"
   ]
  },
  {
   "cell_type": "code",
   "execution_count": 11,
   "id": "1b05d77b-f304-4941-97ef-e5cdf7fadc38",
   "metadata": {},
   "outputs": [
    {
     "data": {
      "text/html": [
       "<div>\n",
       "<style scoped>\n",
       "    .dataframe tbody tr th:only-of-type {\n",
       "        vertical-align: middle;\n",
       "    }\n",
       "\n",
       "    .dataframe tbody tr th {\n",
       "        vertical-align: top;\n",
       "    }\n",
       "\n",
       "    .dataframe thead th {\n",
       "        text-align: right;\n",
       "    }\n",
       "</style>\n",
       "<table border=\"1\" class=\"dataframe\">\n",
       "  <thead>\n",
       "    <tr style=\"text-align: right;\">\n",
       "      <th></th>\n",
       "      <th>budget</th>\n",
       "      <th>genres</th>\n",
       "      <th>homepage</th>\n",
       "      <th>id</th>\n",
       "      <th>keywords</th>\n",
       "      <th>original_language</th>\n",
       "      <th>original_title</th>\n",
       "      <th>overview</th>\n",
       "      <th>popularity</th>\n",
       "      <th>production_companies</th>\n",
       "      <th>...</th>\n",
       "      <th>runtime</th>\n",
       "      <th>spoken_languages</th>\n",
       "      <th>status</th>\n",
       "      <th>tagline</th>\n",
       "      <th>title</th>\n",
       "      <th>vote_average</th>\n",
       "      <th>vote_count</th>\n",
       "      <th>movie_id</th>\n",
       "      <th>cast</th>\n",
       "      <th>crew</th>\n",
       "    </tr>\n",
       "  </thead>\n",
       "  <tbody>\n",
       "    <tr>\n",
       "      <th>0</th>\n",
       "      <td>237000000</td>\n",
       "      <td>[{\"id\": 28, \"name\": \"Action\"}, {\"id\": 12, \"nam...</td>\n",
       "      <td>http://www.avatarmovie.com/</td>\n",
       "      <td>19995</td>\n",
       "      <td>[{\"id\": 1463, \"name\": \"culture clash\"}, {\"id\":...</td>\n",
       "      <td>en</td>\n",
       "      <td>Avatar</td>\n",
       "      <td>In the 22nd century, a paraplegic Marine is di...</td>\n",
       "      <td>150.437577</td>\n",
       "      <td>[{\"name\": \"Ingenious Film Partners\", \"id\": 289...</td>\n",
       "      <td>...</td>\n",
       "      <td>162.0</td>\n",
       "      <td>[{\"iso_639_1\": \"en\", \"name\": \"English\"}, {\"iso...</td>\n",
       "      <td>Released</td>\n",
       "      <td>Enter the World of Pandora.</td>\n",
       "      <td>Avatar</td>\n",
       "      <td>7.2</td>\n",
       "      <td>11800</td>\n",
       "      <td>19995</td>\n",
       "      <td>[{\"cast_id\": 242, \"character\": \"Jake Sully\", \"...</td>\n",
       "      <td>[{\"credit_id\": \"52fe48009251416c750aca23\", \"de...</td>\n",
       "    </tr>\n",
       "  </tbody>\n",
       "</table>\n",
       "<p>1 rows × 23 columns</p>\n",
       "</div>"
      ],
      "text/plain": [
       "      budget                                             genres  \\\n",
       "0  237000000  [{\"id\": 28, \"name\": \"Action\"}, {\"id\": 12, \"nam...   \n",
       "\n",
       "                      homepage     id  \\\n",
       "0  http://www.avatarmovie.com/  19995   \n",
       "\n",
       "                                            keywords original_language  \\\n",
       "0  [{\"id\": 1463, \"name\": \"culture clash\"}, {\"id\":...                en   \n",
       "\n",
       "  original_title                                           overview  \\\n",
       "0         Avatar  In the 22nd century, a paraplegic Marine is di...   \n",
       "\n",
       "   popularity                               production_companies  ... runtime  \\\n",
       "0  150.437577  [{\"name\": \"Ingenious Film Partners\", \"id\": 289...  ...   162.0   \n",
       "\n",
       "                                    spoken_languages    status  \\\n",
       "0  [{\"iso_639_1\": \"en\", \"name\": \"English\"}, {\"iso...  Released   \n",
       "\n",
       "                       tagline   title vote_average vote_count movie_id  \\\n",
       "0  Enter the World of Pandora.  Avatar          7.2      11800    19995   \n",
       "\n",
       "                                                cast  \\\n",
       "0  [{\"cast_id\": 242, \"character\": \"Jake Sully\", \"...   \n",
       "\n",
       "                                                crew  \n",
       "0  [{\"credit_id\": \"52fe48009251416c750aca23\", \"de...  \n",
       "\n",
       "[1 rows x 23 columns]"
      ]
     },
     "execution_count": 11,
     "metadata": {},
     "output_type": "execute_result"
    }
   ],
   "source": [
    "movies = data_movies.merge(data_credit , on = \"title\")\n",
    "movies.head(1)"
   ]
  },
  {
   "cell_type": "code",
   "execution_count": 12,
   "id": "1ab60153-2981-441a-a714-975a1198578d",
   "metadata": {},
   "outputs": [],
   "source": [
    "# movies.shape"
   ]
  },
  {
   "cell_type": "markdown",
   "id": "3b5e86d2-148c-4cd4-8344-cd807056288f",
   "metadata": {},
   "source": [
    "# #  select colums as we need"
   ]
  },
  {
   "cell_type": "code",
   "execution_count": 14,
   "id": "b8d017d7-5ab8-4291-b208-737b0e1b706b",
   "metadata": {},
   "outputs": [],
   "source": [
    "# id , genres , keywords , \ttitle\t, overview ,  ,cast\t, crew"
   ]
  },
  {
   "cell_type": "code",
   "execution_count": 15,
   "id": "72ada369-cbb4-4afc-8096-77206a180b5b",
   "metadata": {},
   "outputs": [],
   "source": [
    "movies = movies[[\"id\" , \"title\" , \"genres\" , \"cast\" , \"crew\" ,\"keywords\" , \"overview\" ]]\n",
    "# movies.head(3)"
   ]
  },
  {
   "cell_type": "code",
   "execution_count": 16,
   "id": "dd180441-59d0-41c1-b91b-da0878caa2aa",
   "metadata": {},
   "outputs": [
    {
     "data": {
      "text/plain": [
       "id          0\n",
       "title       0\n",
       "genres      0\n",
       "cast        0\n",
       "crew        0\n",
       "keywords    0\n",
       "overview    3\n",
       "dtype: int64"
      ]
     },
     "execution_count": 16,
     "metadata": {},
     "output_type": "execute_result"
    }
   ],
   "source": [
    "movies.isnull().sum()"
   ]
  },
  {
   "cell_type": "markdown",
   "id": "838c0bb7-43ea-465f-b693-bcf4fb600915",
   "metadata": {},
   "source": [
    "###  Drop null values "
   ]
  },
  {
   "cell_type": "code",
   "execution_count": 18,
   "id": "e8249b43-782c-4f06-86a2-2aae2eb04b80",
   "metadata": {},
   "outputs": [],
   "source": [
    "movies.dropna(inplace = True)"
   ]
  },
  {
   "cell_type": "code",
   "execution_count": 19,
   "id": "28455c5f-11b8-493a-9e33-a5d29e8f017b",
   "metadata": {},
   "outputs": [],
   "source": [
    "# movies.duplicated().sum()"
   ]
  },
  {
   "cell_type": "code",
   "execution_count": 20,
   "id": "1c21056e-be36-4454-b5a0-eccb74980b8d",
   "metadata": {},
   "outputs": [],
   "source": [
    "# movies.iloc[0].genres"
   ]
  },
  {
   "cell_type": "markdown",
   "id": "2079c448-8e84-43e4-a138-0cae1d96305f",
   "metadata": {},
   "source": [
    "## convert  genres from this\n",
    "###### '[{\"id\": 28, \"name\": \"Action\"}, {\"id\": 12, \"name\": \"Adventure\"}, {\"id\": 14, \"name\": \"Fantasy\"}, {\"id\": 878, \"name\": \"Science Fiction\"}]'\n",
    "## To This\n",
    "###### [\"Action\" , Advanture , \"Fantasy\" , \"Science Fiction\"]"
   ]
  },
  {
   "cell_type": "markdown",
   "id": "b774b1fe-789c-4990-a642-df9a44736569",
   "metadata": {},
   "source": [
    "### write a funtion "
   ]
  },
  {
   "cell_type": "code",
   "execution_count": 23,
   "id": "60c620d6-8d11-41e9-beb3-2ab8b8b9f7c4",
   "metadata": {},
   "outputs": [],
   "source": [
    "#  ast.literal_eval covert string into list\n",
    "import ast\n",
    "def convert(obj):\n",
    "    list = []\n",
    "    for i in ast.literal_eval(obj) :\n",
    "        list.append(i[\"name\"])\n",
    "    return list"
   ]
  },
  {
   "cell_type": "markdown",
   "id": "2bd7c3d3-fa81-4aef-8822-37d2d0a99c35",
   "metadata": {},
   "source": [
    "## Convert genres"
   ]
  },
  {
   "cell_type": "code",
   "execution_count": 25,
   "id": "18d973f2-28b1-4c8d-aad0-364b53a698bf",
   "metadata": {},
   "outputs": [],
   "source": [
    "movies[\"genres\"] = movies[\"genres\"].apply(convert)\n",
    "# movies.head(1)"
   ]
  },
  {
   "cell_type": "markdown",
   "id": "ca9112f8-24ef-4622-85cc-cc3aa82c5bd1",
   "metadata": {},
   "source": [
    "## convert Keywords"
   ]
  },
  {
   "cell_type": "code",
   "execution_count": 27,
   "id": "cc5506e1-c5ee-4289-b7ae-9857b224e64d",
   "metadata": {},
   "outputs": [],
   "source": [
    "movies[\"keywords\"] = movies[\"keywords\"].apply(convert)\n",
    "# movies.head(1)"
   ]
  },
  {
   "cell_type": "code",
   "execution_count": 28,
   "id": "ac5fff3e-81a2-46f5-81f6-5cf06936dfac",
   "metadata": {},
   "outputs": [],
   "source": [
    "# movies.iloc[0].cast"
   ]
  },
  {
   "cell_type": "markdown",
   "id": "4f3b2d13-6597-4995-9e24-a7a52901a525",
   "metadata": {},
   "source": [
    "### we need only three character name from cast "
   ]
  },
  {
   "cell_type": "code",
   "execution_count": 30,
   "id": "a550695e-efea-428c-bddc-52e259bd2142",
   "metadata": {},
   "outputs": [],
   "source": [
    "def convert2(obj):\n",
    "    list = []\n",
    "    counter = 0\n",
    "    for i in ast.literal_eval(obj) :\n",
    "        if counter != 3:\n",
    "            list.append(i[\"name\"])\n",
    "            counter+=1\n",
    "        else:\n",
    "            break\n",
    "    return list"
   ]
  },
  {
   "cell_type": "markdown",
   "id": "83c80fc8-9b57-4763-a37c-bae7df77a43b",
   "metadata": {},
   "source": [
    "# convert cast"
   ]
  },
  {
   "cell_type": "code",
   "execution_count": 32,
   "id": "c4127ef9-4ef5-40d4-86d6-3fd2308a712b",
   "metadata": {},
   "outputs": [],
   "source": [
    "movies[\"cast\"] = movies[\"cast\"].apply(convert2)\n",
    "# movies.head(1)"
   ]
  },
  {
   "cell_type": "markdown",
   "id": "7c125f6d-c1f9-46a3-9608-543a487ee7e6",
   "metadata": {},
   "source": [
    "## Fetch Director from crew because we need only director"
   ]
  },
  {
   "cell_type": "code",
   "execution_count": 34,
   "id": "7dfee73c-f10e-49ca-a98e-8b9037e38b02",
   "metadata": {},
   "outputs": [],
   "source": [
    "# movies.iloc[0].crew"
   ]
  },
  {
   "cell_type": "code",
   "execution_count": 35,
   "id": "a57cc32c-13f1-401c-9720-228f743ac898",
   "metadata": {},
   "outputs": [],
   "source": [
    "def fetch_director(obj):\n",
    "    list = []\n",
    "    \n",
    "    for i in ast.literal_eval(obj):\n",
    "        if i[\"job\"] == \"Director\":\n",
    "            list.append(i[\"name\"])\n",
    "            break\n",
    "    return list"
   ]
  },
  {
   "cell_type": "code",
   "execution_count": 36,
   "id": "f0bcf34f-91d8-4b4a-9f4e-063456552588",
   "metadata": {},
   "outputs": [],
   "source": [
    "movies[\"crew\"] = movies[\"crew\"].apply(fetch_director)\n",
    "# movies.head(1)"
   ]
  },
  {
   "cell_type": "code",
   "execution_count": 37,
   "id": "e2705040-4ad6-4a66-85f3-c5682aea424c",
   "metadata": {},
   "outputs": [],
   "source": [
    "# movies.iloc[0].overview"
   ]
  },
  {
   "cell_type": "markdown",
   "id": "a8bee220-371c-4c50-b874-db34c6f9417a",
   "metadata": {},
   "source": [
    "### Overview is String so firstly we convert this into list"
   ]
  },
  {
   "cell_type": "code",
   "execution_count": 39,
   "id": "67aeb6a7-8aff-45a2-879f-50c4bc1c5f7f",
   "metadata": {},
   "outputs": [],
   "source": [
    "movies[\"overview\"] = movies[\"overview\"].apply(lambda x: x.split())\n",
    "# movies.head(1)"
   ]
  },
  {
   "cell_type": "markdown",
   "id": "d7179aa6-bb93-49dc-8f82-720d002838d2",
   "metadata": {},
   "source": [
    "## remove a space from string "
   ]
  },
  {
   "cell_type": "code",
   "execution_count": 41,
   "id": "092503e4-55b8-486d-a3d3-2e0b46b65175",
   "metadata": {},
   "outputs": [],
   "source": [
    "movies[\"genres\"] = movies[\"genres\"].apply(lambda x: [i.replace(\" \" , \"\") for i in x])\n",
    "movies[\"crew\"] = movies[\"crew\"].apply(lambda x: [i.replace(\" \" , \"\") for i in x])\n",
    "movies[\"cast\"] = movies[\"cast\"].apply(lambda x: [i.replace(\" \" , \"\") for i in x])\n",
    "movies[\"keywords\"] = movies[\"keywords\"].apply(lambda x: [i.replace(\" \" , \"\") for i in x])"
   ]
  },
  {
   "cell_type": "code",
   "execution_count": 42,
   "id": "40446545-ff49-41ee-8433-f73960954f11",
   "metadata": {},
   "outputs": [],
   "source": [
    "# movies.head(1) "
   ]
  },
  {
   "cell_type": "markdown",
   "id": "c1f75fb4-72b5-44fa-b56b-9a1215c82227",
   "metadata": {},
   "source": [
    "## Create another column on the name of \"tags\" and add \"genres\",\"cast\",\"overview\",\"keywords\",\"crew\" in \"tags\" column"
   ]
  },
  {
   "cell_type": "code",
   "execution_count": 44,
   "id": "92900d2d-e0bc-4460-a574-8b177ffae97d",
   "metadata": {},
   "outputs": [],
   "source": [
    "movies[\"tags\"] = movies[\"overview\"] + movies[\"genres\"] + movies[\"keywords\"] + movies[\"cast\"] + movies[\"crew\"]\n",
    "# movies.head(1)"
   ]
  },
  {
   "cell_type": "markdown",
   "id": "5cab7b61-7ee8-47c7-ab6d-1b0a5f82fa97",
   "metadata": {},
   "source": [
    "## create new data set "
   ]
  },
  {
   "cell_type": "code",
   "execution_count": 46,
   "id": "741b48d9-2f33-4074-9b86-5cb1ab384832",
   "metadata": {},
   "outputs": [],
   "source": [
    "movies = movies[[\"id\" , \"title\" , \"tags\"]]\n",
    "# movies.head(3)"
   ]
  },
  {
   "cell_type": "markdown",
   "id": "5fd4eb1f-e1ce-4c15-8334-6f036f6dd6cc",
   "metadata": {},
   "source": [
    "## convert \"tags\" column from list to string "
   ]
  },
  {
   "cell_type": "code",
   "execution_count": 48,
   "id": "83259dbb-8431-4b55-bb35-2eb4c4dad6e0",
   "metadata": {},
   "outputs": [],
   "source": [
    "movies[\"tags\"] = movies[\"tags\"].apply(lambda x:\" \".join(x))\n",
    "# movies.head(3)"
   ]
  },
  {
   "cell_type": "markdown",
   "id": "2d802926-f43a-4119-8393-7e4d990bfa39",
   "metadata": {},
   "source": [
    "### convert tags in  lower case this is recommended"
   ]
  },
  {
   "cell_type": "code",
   "execution_count": 50,
   "id": "50d04edf-3a97-453d-867f-a42d1a7a81ff",
   "metadata": {},
   "outputs": [
    {
     "data": {
      "text/html": [
       "<div>\n",
       "<style scoped>\n",
       "    .dataframe tbody tr th:only-of-type {\n",
       "        vertical-align: middle;\n",
       "    }\n",
       "\n",
       "    .dataframe tbody tr th {\n",
       "        vertical-align: top;\n",
       "    }\n",
       "\n",
       "    .dataframe thead th {\n",
       "        text-align: right;\n",
       "    }\n",
       "</style>\n",
       "<table border=\"1\" class=\"dataframe\">\n",
       "  <thead>\n",
       "    <tr style=\"text-align: right;\">\n",
       "      <th></th>\n",
       "      <th>id</th>\n",
       "      <th>title</th>\n",
       "      <th>tags</th>\n",
       "    </tr>\n",
       "  </thead>\n",
       "  <tbody>\n",
       "    <tr>\n",
       "      <th>0</th>\n",
       "      <td>19995</td>\n",
       "      <td>Avatar</td>\n",
       "      <td>in the 22nd century, a paraplegic marine is di...</td>\n",
       "    </tr>\n",
       "    <tr>\n",
       "      <th>1</th>\n",
       "      <td>285</td>\n",
       "      <td>Pirates of the Caribbean: At World's End</td>\n",
       "      <td>captain barbossa, long believed to be dead, ha...</td>\n",
       "    </tr>\n",
       "    <tr>\n",
       "      <th>2</th>\n",
       "      <td>206647</td>\n",
       "      <td>Spectre</td>\n",
       "      <td>a cryptic message from bond’s past sends him o...</td>\n",
       "    </tr>\n",
       "  </tbody>\n",
       "</table>\n",
       "</div>"
      ],
      "text/plain": [
       "       id                                     title  \\\n",
       "0   19995                                    Avatar   \n",
       "1     285  Pirates of the Caribbean: At World's End   \n",
       "2  206647                                   Spectre   \n",
       "\n",
       "                                                tags  \n",
       "0  in the 22nd century, a paraplegic marine is di...  \n",
       "1  captain barbossa, long believed to be dead, ha...  \n",
       "2  a cryptic message from bond’s past sends him o...  "
      ]
     },
     "execution_count": 50,
     "metadata": {},
     "output_type": "execute_result"
    }
   ],
   "source": [
    "movies[\"tags\"] = movies[\"tags\"].apply(lambda x:x.lower())\n",
    "movies.head(3)"
   ]
  },
  {
   "cell_type": "code",
   "execution_count": null,
   "id": "1e030986-bb9b-4f2f-bdbd-1215e20b537f",
   "metadata": {},
   "outputs": [],
   "source": []
  },
  {
   "cell_type": "markdown",
   "id": "0f484505-9644-4edc-bdd0-83072632a0c4",
   "metadata": {},
   "source": [
    "### We Need to stem \"tags\" data. for example {\"love\" , \"lover\" , \"loving\"}\n",
    "### All mean is same so we convert all in same [\"love\" , \"love\" , \"love\"]."
   ]
  },
  {
   "cell_type": "code",
   "execution_count": 52,
   "id": "11176574-ee1a-473b-9718-2587455c9be9",
   "metadata": {},
   "outputs": [],
   "source": [
    "import nltk"
   ]
  },
  {
   "cell_type": "code",
   "execution_count": 53,
   "id": "7a00ea3f-6d25-42cb-bb3d-2cb35a8f3d84",
   "metadata": {},
   "outputs": [],
   "source": [
    "from nltk.stem.porter import PorterStemmer"
   ]
  },
  {
   "cell_type": "code",
   "execution_count": 54,
   "id": "751aaf39-e2c4-44c6-a1c7-3d8062c4f50c",
   "metadata": {},
   "outputs": [],
   "source": [
    "ps = PorterStemmer()"
   ]
  },
  {
   "cell_type": "code",
   "execution_count": 55,
   "id": "73f55df1-3cc1-406d-b176-1fa4cb1c6e78",
   "metadata": {},
   "outputs": [],
   "source": [
    "def stem(text):\n",
    "    y = []\n",
    "    for i in text.split():\n",
    "        y.append(ps.stem(i))\n",
    "    return \" \".join(y)"
   ]
  },
  {
   "cell_type": "code",
   "execution_count": 56,
   "id": "ee7cd44c-6a9c-4904-ae2f-ccb469439af7",
   "metadata": {},
   "outputs": [
    {
     "data": {
      "text/html": [
       "<div>\n",
       "<style scoped>\n",
       "    .dataframe tbody tr th:only-of-type {\n",
       "        vertical-align: middle;\n",
       "    }\n",
       "\n",
       "    .dataframe tbody tr th {\n",
       "        vertical-align: top;\n",
       "    }\n",
       "\n",
       "    .dataframe thead th {\n",
       "        text-align: right;\n",
       "    }\n",
       "</style>\n",
       "<table border=\"1\" class=\"dataframe\">\n",
       "  <thead>\n",
       "    <tr style=\"text-align: right;\">\n",
       "      <th></th>\n",
       "      <th>id</th>\n",
       "      <th>title</th>\n",
       "      <th>tags</th>\n",
       "    </tr>\n",
       "  </thead>\n",
       "  <tbody>\n",
       "    <tr>\n",
       "      <th>0</th>\n",
       "      <td>19995</td>\n",
       "      <td>Avatar</td>\n",
       "      <td>in the 22nd century, a parapleg marin is dispa...</td>\n",
       "    </tr>\n",
       "    <tr>\n",
       "      <th>1</th>\n",
       "      <td>285</td>\n",
       "      <td>Pirates of the Caribbean: At World's End</td>\n",
       "      <td>captain barbossa, long believ to be dead, ha c...</td>\n",
       "    </tr>\n",
       "    <tr>\n",
       "      <th>2</th>\n",
       "      <td>206647</td>\n",
       "      <td>Spectre</td>\n",
       "      <td>a cryptic messag from bond’ past send him on a...</td>\n",
       "    </tr>\n",
       "  </tbody>\n",
       "</table>\n",
       "</div>"
      ],
      "text/plain": [
       "       id                                     title  \\\n",
       "0   19995                                    Avatar   \n",
       "1     285  Pirates of the Caribbean: At World's End   \n",
       "2  206647                                   Spectre   \n",
       "\n",
       "                                                tags  \n",
       "0  in the 22nd century, a parapleg marin is dispa...  \n",
       "1  captain barbossa, long believ to be dead, ha c...  \n",
       "2  a cryptic messag from bond’ past send him on a...  "
      ]
     },
     "execution_count": 56,
     "metadata": {},
     "output_type": "execute_result"
    }
   ],
   "source": [
    "movies[\"tags\"] = movies[\"tags\"].apply(stem)\n",
    "movies.head(3)"
   ]
  },
  {
   "cell_type": "markdown",
   "id": "a638d3bc-db91-43b3-abaa-a5a9898c1286",
   "metadata": {},
   "source": [
    "#  Text Vectorization on \"tags\"\n",
    "####  is the process of converting text data (such as words or sentences) into numerical vectors that machine learning \n",
    "#### models can understand and work with\n",
    "## Common Text Vectorization Methods\n",
    "# # # 1 : Bag of Words (BoW)\n",
    "# # # 2 : Term Frequency - Inverse Document Frequency (TF-IDF)\n",
    "# # # 3 : Word Embeddings (e.g., Word2Vec, GloVe, FastText)\n",
    "# # # 4 : Document Embeddings (e.g., Doc2Vec)\n",
    "# # # 5 : N-Grams \n",
    "# # # 6 : Tokenization (with Transformers)"
   ]
  },
  {
   "cell_type": "markdown",
   "id": "ab48bc80-a0b0-472b-8094-030deec559b8",
   "metadata": {},
   "source": [
    "### WE USE FIRST BoW"
   ]
  },
  {
   "cell_type": "code",
   "execution_count": 59,
   "id": "b5a679b3-3472-4ce0-9aa4-7b91a4e4b42c",
   "metadata": {},
   "outputs": [],
   "source": [
    "from sklearn.feature_extraction.text import CountVectorizer"
   ]
  },
  {
   "cell_type": "code",
   "execution_count": 60,
   "id": "3c60cae3-9fc6-4775-be5d-87448d1d7d16",
   "metadata": {},
   "outputs": [],
   "source": [
    "cv = CountVectorizer(max_features = 5000 , stop_words = \"english\")"
   ]
  },
  {
   "cell_type": "code",
   "execution_count": 61,
   "id": "7c796c01-456d-407f-a1d1-faf424c845cb",
   "metadata": {},
   "outputs": [],
   "source": [
    "vectors = cv.fit_transform(movies[\"tags\"]).toarray()\n",
    "# vectors"
   ]
  },
  {
   "cell_type": "code",
   "execution_count": 62,
   "id": "819e4d1c-3ee7-42b8-b7b3-05ddc5cf261b",
   "metadata": {},
   "outputs": [],
   "source": [
    "# vectors[0]"
   ]
  },
  {
   "cell_type": "code",
   "execution_count": 63,
   "id": "4531dd8a-30a7-4b0c-b1bc-c5e0629fa915",
   "metadata": {},
   "outputs": [
    {
     "data": {
      "text/plain": [
       "array(['000', '007', '10', ..., 'zone', 'zoo', 'zooeydeschanel'],\n",
       "      dtype=object)"
      ]
     },
     "execution_count": 63,
     "metadata": {},
     "output_type": "execute_result"
    }
   ],
   "source": [
    "cv.get_feature_names_out()"
   ]
  },
  {
   "cell_type": "markdown",
   "id": "dce5fec4-5cfd-4516-a63e-12c19af5234d",
   "metadata": {},
   "source": [
    "## we find a distance between two movies using cosine_similarity\n",
    "## how many this similar to each other"
   ]
  },
  {
   "cell_type": "code",
   "execution_count": 65,
   "id": "ce4f188d-fd46-43b2-bac5-d2e785bc59e2",
   "metadata": {},
   "outputs": [],
   "source": [
    "from sklearn.metrics.pairwise import cosine_similarity"
   ]
  },
  {
   "cell_type": "code",
   "execution_count": 66,
   "id": "6b53f1d7-e991-4e9f-a17d-1e128c089899",
   "metadata": {},
   "outputs": [],
   "source": [
    "similarity = cosine_similarity(vectors)\n",
    "# similarity\n",
    "# similarity[0]"
   ]
  },
  {
   "cell_type": "code",
   "execution_count": 67,
   "id": "fc87ef19-712c-4767-9b16-95539685a735",
   "metadata": {},
   "outputs": [],
   "source": [
    "# sorted(list(enumerate(similarity[1] )) ,reverse = True , key = lambda x:x[1])[1:6]"
   ]
  },
  {
   "cell_type": "code",
   "execution_count": null,
   "id": "99bd0999-3e80-4f48-8827-451af809ad97",
   "metadata": {},
   "outputs": [],
   "source": []
  },
  {
   "cell_type": "code",
   "execution_count": 68,
   "id": "79115d95-0c23-4f6a-8dae-eec40f6ac7d9",
   "metadata": {},
   "outputs": [],
   "source": [
    "def recommend(movie):\n",
    "    # find movie index\n",
    "    movies_index = movies[movies[\"title\"] == movie].index[0]\n",
    "    # find similarity\n",
    "    distance = similarity[movies_index]\n",
    "    movies_list = sorted(list(enumerate(distance)),reverse =True ,key =lambda x:x[1])[1:6]\n",
    "\n",
    "    for i in movies_list:\n",
    "        print(movies.iloc[i[0]].title)"
   ]
  },
  {
   "cell_type": "code",
   "execution_count": 69,
   "id": "5aadebbe-8f61-4a08-b8cd-5dabf92a4e6e",
   "metadata": {},
   "outputs": [
    {
     "name": "stdout",
     "output_type": "stream",
     "text": [
      "The Dark Knight\n",
      "Batman\n",
      "Batman\n",
      "The Dark Knight Rises\n",
      "10th & Wolf\n"
     ]
    }
   ],
   "source": [
    "recommend(\"Batman Begins\")"
   ]
  },
  {
   "cell_type": "code",
   "execution_count": null,
   "id": "37ac0e60-33e6-4684-a87a-98e206a8154a",
   "metadata": {},
   "outputs": [],
   "source": []
  },
  {
   "cell_type": "code",
   "execution_count": null,
   "id": "92220284-d0bf-49b3-95a8-753c1b12870c",
   "metadata": {},
   "outputs": [],
   "source": []
  }
 ],
 "metadata": {
  "kernelspec": {
   "display_name": "Python 3 (ipykernel)",
   "language": "python",
   "name": "python3"
  },
  "language_info": {
   "codemirror_mode": {
    "name": "ipython",
    "version": 3
   },
   "file_extension": ".py",
   "mimetype": "text/x-python",
   "name": "python",
   "nbconvert_exporter": "python",
   "pygments_lexer": "ipython3",
   "version": "3.12.4"
  }
 },
 "nbformat": 4,
 "nbformat_minor": 5
}
